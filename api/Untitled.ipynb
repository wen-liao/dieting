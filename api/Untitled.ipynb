{
 "cells": [
  {
   "cell_type": "code",
   "execution_count": 9,
   "metadata": {
    "scrolled": true
   },
   "outputs": [
    {
     "name": "stdout",
     "output_type": "stream",
     "text": [
      "[{'breakfast': [{'name': '杂粮煎饼', 'calorie': 487, 'unitName': '个', 'quantity': 1}, {'name': '面包', 'calorie': 399, 'unitName': '片', 'quantity': 3}], 'lunch': [{'name': '番茄炒蛋', 'calorie': 74, 'unitName': '份', 'quantity': 1}, {'name': '免费汤', 'calorie': 8, 'unitName': '份', 'quantity': 1}], 'dinner': [{'name': '咕咾肉', 'calorie': 291, 'unitName': '份', 'quantity': 1}, {'name': '西兰花', 'calorie': 34, 'unitName': '份', 'quantity': 1}], 'snacks': [{'name': '金家关东煮', 'calorie': 54, 'unitName': '根', 'quantity': 3}, {'name': '一丢丢奶茶', 'calorie': 300, 'unitName': '杯', 'quantity': 1}], 'sports': [{'name': '慢跑', 'calorie': 276, 'unitName': '分钟', 'quantity': 60}, {'name': '瑜伽', 'calorie': 104, 'unitName': '分钟', 'quantity': 40}], 'calorieLeft': -463, 'username': 'David', 'year': 2019, 'month': 6, 'day': 11}, {'breakfast': [{'name': '面包', 'calorie': 399, 'unitName': '片', 'quantity': 3}, {'name': '鸡蛋', 'calorie': 81, 'unitName': '个', 'quantity': 1}, {'name': '牛奶', 'calorie': 125, 'unitName': '盒', 'quantity': 1}, {'name': '杂粮煎饼', 'calorie': 487, 'unitName': '个', 'quantity': 1}], 'lunch': [{'name': '咕咾肉', 'calorie': 291, 'unitName': '份', 'quantity': 1}, {'name': '西兰花', 'calorie': 34, 'unitName': '份', 'quantity': 1}], 'dinner': [{'name': '煲仔饭', 'calorie': 800, 'unitName': '份', 'quantity': 1}, {'name': '西兰花', 'calorie': 34, 'unitName': '份', 'quantity': 1}, {'name': '米饭', 'calorie': 232, 'unitName': '两', 'quantity': 1}, {'name': '番茄炒蛋', 'calorie': 74, 'unitName': '份', 'quantity': 1}], 'snacks': [{'name': '双皮奶', 'calorie': 200, 'unitName': '份', 'quantity': 1}, {'name': '一丢丢奶茶', 'calorie': 300, 'unitName': '杯', 'quantity': 1}, {'name': '蛋挞', 'calorie': 94, 'unitName': '个', 'quantity': 1}], 'sports': [{'name': '足球', 'calorie': 230, 'unitName': '分钟', 'quantity': 50}, {'name': '羽毛球', 'calorie': 135, 'unitName': '分钟', 'quantity': 45}], 'calorieLeft': 1056, 'username': 'David', 'year': 2019, 'month': 6, 'day': 10}, {'breakfast': [{'name': '鸡蛋', 'calorie': 81, 'unitName': '个', 'quantity': 1}, {'name': '杂粮煎饼', 'calorie': 487, 'unitName': '个', 'quantity': 1}], 'lunch': [{'name': '番茄炒蛋', 'calorie': 74, 'unitName': '份', 'quantity': 1}, {'name': '咕咾肉', 'calorie': 291, 'unitName': '份', 'quantity': 1}], 'dinner': [{'name': '煲仔饭', 'calorie': 800, 'unitName': '份', 'quantity': 1}, {'name': '免费汤', 'calorie': 8, 'unitName': '份', 'quantity': 1}], 'snacks': [{'name': '豪太太鸡排', 'calorie': 400, 'unitName': '份', 'quantity': 1}, {'name': '蛋挞', 'calorie': 94, 'unitName': '个', 'quantity': 1}, {'name': '双皮奶', 'calorie': 200, 'unitName': '份', 'quantity': 1}], 'sports': [{'name': '自行车', 'calorie': 156, 'unitName': '分钟', 'quantity': 60}, {'name': '篮球', 'calorie': 120, 'unitName': '分钟', 'quantity': 30}], 'calorieLeft': 429, 'username': 'David', 'year': 2019, 'month': 6, 'day': 9}, {'breakfast': [{'name': '鸡蛋', 'calorie': 81, 'unitName': '个', 'quantity': 1}, {'name': '牛奶', 'calorie': 125, 'unitName': '盒', 'quantity': 1}, {'name': '杂粮煎饼', 'calorie': 487, 'unitName': '个', 'quantity': 1}], 'lunch': [{'name': '米饭', 'calorie': 232, 'unitName': '两', 'quantity': 1}, {'name': '煲仔饭', 'calorie': 800, 'unitName': '份', 'quantity': 1}, {'name': '咕咾肉', 'calorie': 291, 'unitName': '份', 'quantity': 1}], 'dinner': [{'name': '免费汤', 'calorie': 8, 'unitName': '份', 'quantity': 1}, {'name': '番茄炒蛋', 'calorie': 74, 'unitName': '份', 'quantity': 1}], 'snacks': [{'name': '烤肠', 'calorie': 508, 'unitName': '根', 'quantity': 1}, {'name': '蛋挞', 'calorie': 94, 'unitName': '个', 'quantity': 1}, {'name': '双皮奶', 'calorie': 200, 'unitName': '份', 'quantity': 1}, {'name': '豪太太鸡排', 'calorie': 400, 'unitName': '份', 'quantity': 1}], 'sports': [{'name': '羽毛球', 'calorie': 135, 'unitName': '分钟', 'quantity': 45}, {'name': '散步', 'calorie': 48, 'unitName': '分钟', 'quantity': 30}], 'calorieLeft': 1387, 'username': 'David', 'year': 2019, 'month': 6, 'day': 8}, {'breakfast': [{'name': '牛奶', 'calorie': 125, 'unitName': '盒', 'quantity': 1}, {'name': '杂粮煎饼', 'calorie': 487, 'unitName': '个', 'quantity': 1}, {'name': '面包', 'calorie': 399, 'unitName': '片', 'quantity': 3}], 'lunch': [{'name': '煲仔饭', 'calorie': 800, 'unitName': '份', 'quantity': 1}, {'name': '番茄炒蛋', 'calorie': 74, 'unitName': '份', 'quantity': 1}, {'name': '米饭', 'calorie': 232, 'unitName': '两', 'quantity': 1}, {'name': '西兰花', 'calorie': 34, 'unitName': '份', 'quantity': 1}], 'dinner': [{'name': '西兰花', 'calorie': 34, 'unitName': '份', 'quantity': 1}, {'name': '咕咾肉', 'calorie': 291, 'unitName': '份', 'quantity': 1}, {'name': '免费汤', 'calorie': 8, 'unitName': '份', 'quantity': 1}, {'name': '米饭', 'calorie': 232, 'unitName': '两', 'quantity': 1}], 'snacks': [{'name': '双皮奶', 'calorie': 200, 'unitName': '份', 'quantity': 1}, {'name': '烤肠', 'calorie': 508, 'unitName': '根', 'quantity': 1}], 'sports': [{'name': '散步', 'calorie': 48, 'unitName': '分钟', 'quantity': 30}, {'name': '羽毛球', 'calorie': 135, 'unitName': '分钟', 'quantity': 45}], 'calorieLeft': 1511, 'username': 'David', 'year': 2019, 'month': 6, 'day': 7}, {'breakfast': [{'name': '面包', 'calorie': 399, 'unitName': '片', 'quantity': 3}, {'name': '牛奶', 'calorie': 125, 'unitName': '盒', 'quantity': 1}, {'name': '鸡蛋', 'calorie': 81, 'unitName': '个', 'quantity': 1}], 'lunch': [{'name': '番茄炒蛋', 'calorie': 74, 'unitName': '份', 'quantity': 1}, {'name': '西兰花', 'calorie': 34, 'unitName': '份', 'quantity': 1}, {'name': '免费汤', 'calorie': 8, 'unitName': '份', 'quantity': 1}, {'name': '咕咾肉', 'calorie': 291, 'unitName': '份', 'quantity': 1}], 'dinner': [{'name': '咕咾肉', 'calorie': 291, 'unitName': '份', 'quantity': 1}, {'name': '煲仔饭', 'calorie': 800, 'unitName': '份', 'quantity': 1}, {'name': '米饭', 'calorie': 232, 'unitName': '两', 'quantity': 1}, {'name': '番茄炒蛋', 'calorie': 74, 'unitName': '份', 'quantity': 1}], 'snacks': [{'name': '双皮奶', 'calorie': 200, 'unitName': '份', 'quantity': 1}, {'name': '豪太太鸡排', 'calorie': 400, 'unitName': '份', 'quantity': 1}, {'name': '金家关东煮', 'calorie': 54, 'unitName': '根', 'quantity': 3}], 'sports': [{'name': '篮球', 'calorie': 120, 'unitName': '分钟', 'quantity': 30}, {'name': '自行车', 'calorie': 156, 'unitName': '分钟', 'quantity': 60}], 'calorieLeft': 1057, 'username': 'David', 'year': 2019, 'month': 6, 'day': 6}, {'breakfast': [{'name': '面包', 'calorie': 399, 'unitName': '片', 'quantity': 3}, {'name': '牛奶', 'calorie': 125, 'unitName': '盒', 'quantity': 1}], 'lunch': [{'name': '西兰花', 'calorie': 34, 'unitName': '份', 'quantity': 1}, {'name': '米饭', 'calorie': 232, 'unitName': '两', 'quantity': 1}], 'dinner': [{'name': '米饭', 'calorie': 232, 'unitName': '两', 'quantity': 1}, {'name': '煲仔饭', 'calorie': 800, 'unitName': '份', 'quantity': 1}], 'snacks': [{'name': '一丢丢奶茶', 'calorie': 300, 'unitName': '杯', 'quantity': 1}, {'name': '蛋挞', 'calorie': 94, 'unitName': '个', 'quantity': 1}], 'sports': [{'name': '散步', 'calorie': 48, 'unitName': '分钟', 'quantity': 30}, {'name': '羽毛球', 'calorie': 135, 'unitName': '分钟', 'quantity': 45}], 'calorieLeft': 303, 'username': 'David', 'year': 2019, 'month': 6, 'day': 5}, {'breakfast': [{'name': '面包', 'calorie': 399, 'unitName': '片', 'quantity': 3}, {'name': '牛奶', 'calorie': 125, 'unitName': '盒', 'quantity': 1}], 'lunch': [{'name': '咕咾肉', 'calorie': 291, 'unitName': '份', 'quantity': 1}, {'name': '煲仔饭', 'calorie': 800, 'unitName': '份', 'quantity': 1}], 'dinner': [{'name': '米饭', 'calorie': 232, 'unitName': '两', 'quantity': 1}, {'name': '煲仔饭', 'calorie': 800, 'unitName': '份', 'quantity': 1}, {'name': '咕咾肉', 'calorie': 291, 'unitName': '份', 'quantity': 1}], 'snacks': [{'name': '豪太太鸡排', 'calorie': 400, 'unitName': '份', 'quantity': 1}, {'name': '烤肠', 'calorie': 508, 'unitName': '根', 'quantity': 1}, {'name': '金家关东煮', 'calorie': 54, 'unitName': '根', 'quantity': 3}, {'name': '一丢丢奶茶', 'calorie': 300, 'unitName': '杯', 'quantity': 1}], 'sports': [{'name': '羽毛球', 'calorie': 135, 'unitName': '分钟', 'quantity': 45}, {'name': '瑜伽', 'calorie': 104, 'unitName': '分钟', 'quantity': 40}, {'name': '散步', 'calorie': 48, 'unitName': '分钟', 'quantity': 30}], 'calorieLeft': 2183, 'username': 'David', 'year': 2019, 'month': 6, 'day': 4}]\n"
     ]
    }
   ],
   "source": [
    "import datetime\n",
    "import random\n",
    "\n",
    "#for date in date_range:\n",
    "today = datetime.date.today()\n",
    "username = 'David'\n",
    "records = []\n",
    "for i in range(0,8):\n",
    "    date = today - datetime.timedelta(i)\n",
    "    #randomly generate a record\n",
    "    year,month,day = date.year,date.month,date.day\n",
    "    #breakfast\n",
    "    breakfast = []\n",
    "    breakfasts = [\n",
    "        {'name':'牛奶','calorie':125,'unitName':'盒','quantity':1},\n",
    "        {'name':'面包','calorie':399,'unitName':'片','quantity':3},\n",
    "        {'name':'鸡蛋','calorie':81,'unitName':'个','quantity':1},\n",
    "        {'name':'杂粮煎饼','calorie':487,'unitName':'个','quantity':1},\n",
    "    ]\n",
    "    length = random.randint(2,4)\n",
    "    for j in range(length):\n",
    "        ix = random.randint(0,3)\n",
    "        while breakfasts[ix] in breakfast:\n",
    "            ix = random.randint(0,3)\n",
    "        breakfast.append(breakfasts[ix])\n",
    "    #lunch, dinner\n",
    "    lunch,dinner = [],[]\n",
    "    dinners = [\n",
    "        {'name':'番茄炒蛋','calorie':74,'unitName':'份','quantity':1},\n",
    "        {'name':'咕咾肉','calorie':291,'unitName':'份','quantity':1},\n",
    "        {'name':'西兰花','calorie':34,'unitName':'份','quantity':1},\n",
    "        {'name':'煲仔饭','calorie':800,'unitName':'份','quantity':1},\n",
    "        {'name':'米饭','calorie':232,'unitName':'两','quantity':1},\n",
    "        {'name':'免费汤','calorie':8,'unitName':'份','quantity':1},\n",
    "    ]\n",
    "    length = random.randint(2,4)\n",
    "    for j in range(length):\n",
    "        ix = random.randint(0,5)\n",
    "        while dinners[ix] in lunch:\n",
    "            ix = random.randint(0,3)\n",
    "        lunch.append(dinners[ix])\n",
    "    length = random.randint(2,4)\n",
    "    for j in range(length):\n",
    "        ix = random.randint(0,5)\n",
    "        while dinners[ix] in dinner:\n",
    "            ix = random.randint(0,3)\n",
    "        dinner.append(dinners[ix])\n",
    "    #snacks\n",
    "    snacks = []\n",
    "    snackses = [\n",
    "        {'name':'双皮奶','calorie':200,'unitName':'份','quantity':1},\n",
    "        {'name':'蛋挞','calorie':94,'unitName':'个','quantity':1},\n",
    "        {'name':'烤肠','calorie':508,'unitName':'根','quantity':1},\n",
    "        {'name':'一丢丢奶茶','calorie':300,'unitName':'杯','quantity':1},\n",
    "        {'name':'金家关东煮','calorie':54,'unitName':'根','quantity':3},\n",
    "        {'name':'豪太太鸡排','calorie':400,'unitName':'份','quantity':1},\n",
    "    ]\n",
    "    length = random.randint(2,4)\n",
    "    for j in range(length):\n",
    "        ix = random.randint(0,5)\n",
    "        while snackses[ix] in snacks:\n",
    "            ix = random.randint(0,3)\n",
    "        snacks.append(snackses[ix])\n",
    "    sports = []\n",
    "    sportses = [\n",
    "        {'name':'散步','calorie':48,'unitName':'分钟','quantity':30},\n",
    "        {'name':'慢跑','calorie':276,'unitName':'分钟','quantity':60},\n",
    "        {'name':'自行车','calorie':156,'unitName':'分钟','quantity':60},\n",
    "        {'name':'篮球','calorie':120,'unitName':'分钟','quantity':30},\n",
    "        {'name':'羽毛球','calorie':135,'unitName':'分钟','quantity':45},\n",
    "        {'name':'足球','calorie':230,'unitName':'分钟','quantity':50},\n",
    "        {'name':'瑜伽','calorie':104,'unitName':'分钟','quantity':40},\n",
    "    ]\n",
    "    length = random.randint(2,4)\n",
    "    for j in range(length):\n",
    "        ix = random.randint(0,6)\n",
    "        while sportses[ix] in sports:\n",
    "            ix = random.randint(0,3)\n",
    "        sports.append(sportses[ix])\n",
    "    #calorieLeft = energy taken in - energy consumed - 1730\n",
    "    calorieLeft = 0\n",
    "    for meal in breakfast:\n",
    "        calorieLeft += meal['calorie']\n",
    "    for meal in lunch:\n",
    "        calorieLeft += meal['calorie']\n",
    "    for meal in dinner:\n",
    "        calorieLeft += meal['calorie']\n",
    "    for meal in snacks:\n",
    "        calorieLeft += meal['calorie']\n",
    "    for sport in sports:\n",
    "        calorieLeft -= sport['calorie']\n",
    "    calorieLeft -= 1730\n",
    "    record = {\n",
    "        'breakfast':breakfast,\n",
    "        'lunch':lunch,\n",
    "        'dinner':dinner,\n",
    "        'snacks':snacks,\n",
    "        'sports':sports,\n",
    "        'calorieLeft':calorieLeft,\n",
    "        'username':username,\n",
    "        'year':year,\n",
    "        'month':month,\n",
    "        'day':day,\n",
    "    }\n",
    "    records.append(record)\n",
    "#save record in DBS\n",
    "print(records)"
   ]
  },
  {
   "cell_type": "code",
   "execution_count": 7,
   "metadata": {},
   "outputs": [],
   "source": [
    "records = [{'breakfast': [{'name': '杂粮煎饼', 'calorie': 487, 'unitName': '个', 'quantity': 1}, {'name': '面包', 'calorie': 399, 'unitName': '片', 'quantity': 3}], 'lunch': [{'name': '番茄炒蛋', 'calorie': 74, 'unitName': '份', 'quantity': 1}, {'name': '免费汤', 'calorie': 8, 'unitName': '份', 'quantity': 1}], 'dinner': [{'name': '咕咾肉', 'calorie': 291, 'unitName': '份', 'quantity': 1}, {'name': '西兰花', 'calorie': 34, 'unitName': '份', 'quantity': 1}], 'snacks': [{'name': '金家关东煮', 'calorie': 54, 'unitName': '根', 'quantity': 3}, {'name': '一丢丢奶茶', 'calorie': 300, 'unitName': '杯', 'quantity': 1}], 'sports': [{'name': '慢跑', 'calorie': 276, 'unitName': '分钟', 'quantity': 60}, {'name': '瑜伽', 'calorie': 104, 'unitName': '分钟', 'quantity': 40}], 'calorieLeft': -463, 'username': 'David', 'year': 2019, 'month': 6, 'day': 11}, {'breakfast': [{'name': '面包', 'calorie': 399, 'unitName': '片', 'quantity': 3}, {'name': '鸡蛋', 'calorie': 81, 'unitName': '个', 'quantity': 1}, {'name': '牛奶', 'calorie': 125, 'unitName': '盒', 'quantity': 1}, {'name': '杂粮煎饼', 'calorie': 487, 'unitName': '个', 'quantity': 1}], 'lunch': [{'name': '咕咾肉', 'calorie': 291, 'unitName': '份', 'quantity': 1}, {'name': '西兰花', 'calorie': 34, 'unitName': '份', 'quantity': 1}], 'dinner': [{'name': '煲仔饭', 'calorie': 800, 'unitName': '份', 'quantity': 1}, {'name': '西兰花', 'calorie': 34, 'unitName': '份', 'quantity': 1}, {'name': '米饭', 'calorie': 232, 'unitName': '两', 'quantity': 1}, {'name': '番茄炒蛋', 'calorie': 74, 'unitName': '份', 'quantity': 1}], 'snacks': [{'name': '双皮奶', 'calorie': 200, 'unitName': '份', 'quantity': 1}, {'name': '一丢丢奶茶', 'calorie': 300, 'unitName': '杯', 'quantity': 1}, {'name': '蛋挞', 'calorie': 94, 'unitName': '个', 'quantity': 1}], 'sports': [{'name': '足球', 'calorie': 230, 'unitName': '分钟', 'quantity': 50}, {'name': '羽毛球', 'calorie': 135, 'unitName': '分钟', 'quantity': 45}], 'calorieLeft': 1056, 'username': 'David', 'year': 2019, 'month': 6, 'day': 10}, {'breakfast': [{'name': '鸡蛋', 'calorie': 81, 'unitName': '个', 'quantity': 1}, {'name': '杂粮煎饼', 'calorie': 487, 'unitName': '个', 'quantity': 1}], 'lunch': [{'name': '番茄炒蛋', 'calorie': 74, 'unitName': '份', 'quantity': 1}, {'name': '咕咾肉', 'calorie': 291, 'unitName': '份', 'quantity': 1}], 'dinner': [{'name': '煲仔饭', 'calorie': 800, 'unitName': '份', 'quantity': 1}, {'name': '免费汤', 'calorie': 8, 'unitName': '份', 'quantity': 1}], 'snacks': [{'name': '豪太太鸡排', 'calorie': 400, 'unitName': '份', 'quantity': 1}, {'name': '蛋挞', 'calorie': 94, 'unitName': '个', 'quantity': 1}, {'name': '双皮奶', 'calorie': 200, 'unitName': '份', 'quantity': 1}], 'sports': [{'name': '自行车', 'calorie': 156, 'unitName': '分钟', 'quantity': 60}, {'name': '篮球', 'calorie': 120, 'unitName': '分钟', 'quantity': 30}], 'calorieLeft': 429, 'username': 'David', 'year': 2019, 'month': 6, 'day': 9}, {'breakfast': [{'name': '鸡蛋', 'calorie': 81, 'unitName': '个', 'quantity': 1}, {'name': '牛奶', 'calorie': 125, 'unitName': '盒', 'quantity': 1}, {'name': '杂粮煎饼', 'calorie': 487, 'unitName': '个', 'quantity': 1}], 'lunch': [{'name': '米饭', 'calorie': 232, 'unitName': '两', 'quantity': 1}, {'name': '煲仔饭', 'calorie': 800, 'unitName': '份', 'quantity': 1}, {'name': '咕咾肉', 'calorie': 291, 'unitName': '份', 'quantity': 1}], 'dinner': [{'name': '免费汤', 'calorie': 8, 'unitName': '份', 'quantity': 1}, {'name': '番茄炒蛋', 'calorie': 74, 'unitName': '份', 'quantity': 1}], 'snacks': [{'name': '烤肠', 'calorie': 508, 'unitName': '根', 'quantity': 1}, {'name': '蛋挞', 'calorie': 94, 'unitName': '个', 'quantity': 1}, {'name': '双皮奶', 'calorie': 200, 'unitName': '份', 'quantity': 1}, {'name': '豪太太鸡排', 'calorie': 400, 'unitName': '份', 'quantity': 1}], 'sports': [{'name': '羽毛球', 'calorie': 135, 'unitName': '分钟', 'quantity': 45}, {'name': '散步', 'calorie': 48, 'unitName': '分钟', 'quantity': 30}], 'calorieLeft': 1387, 'username': 'David', 'year': 2019, 'month': 6, 'day': 8}, {'breakfast': [{'name': '牛奶', 'calorie': 125, 'unitName': '盒', 'quantity': 1}, {'name': '杂粮煎饼', 'calorie': 487, 'unitName': '个', 'quantity': 1}, {'name': '面包', 'calorie': 399, 'unitName': '片', 'quantity': 3}], 'lunch': [{'name': '煲仔饭', 'calorie': 800, 'unitName': '份', 'quantity': 1}, {'name': '番茄炒蛋', 'calorie': 74, 'unitName': '份', 'quantity': 1}, {'name': '米饭', 'calorie': 232, 'unitName': '两', 'quantity': 1}, {'name': '西兰花', 'calorie': 34, 'unitName': '份', 'quantity': 1}], 'dinner': [{'name': '西兰花', 'calorie': 34, 'unitName': '份', 'quantity': 1}, {'name': '咕咾肉', 'calorie': 291, 'unitName': '份', 'quantity': 1}, {'name': '免费汤', 'calorie': 8, 'unitName': '份', 'quantity': 1}, {'name': '米饭', 'calorie': 232, 'unitName': '两', 'quantity': 1}], 'snacks': [{'name': '双皮奶', 'calorie': 200, 'unitName': '份', 'quantity': 1}, {'name': '烤肠', 'calorie': 508, 'unitName': '根', 'quantity': 1}], 'sports': [{'name': '散步', 'calorie': 48, 'unitName': '分钟', 'quantity': 30}, {'name': '羽毛球', 'calorie': 135, 'unitName': '分钟', 'quantity': 45}], 'calorieLeft': 1511, 'username': 'David', 'year': 2019, 'month': 6, 'day': 7}, {'breakfast': [{'name': '面包', 'calorie': 399, 'unitName': '片', 'quantity': 3}, {'name': '牛奶', 'calorie': 125, 'unitName': '盒', 'quantity': 1}, {'name': '鸡蛋', 'calorie': 81, 'unitName': '个', 'quantity': 1}], 'lunch': [{'name': '番茄炒蛋', 'calorie': 74, 'unitName': '份', 'quantity': 1}, {'name': '西兰花', 'calorie': 34, 'unitName': '份', 'quantity': 1}, {'name': '免费汤', 'calorie': 8, 'unitName': '份', 'quantity': 1}, {'name': '咕咾肉', 'calorie': 291, 'unitName': '份', 'quantity': 1}], 'dinner': [{'name': '咕咾肉', 'calorie': 291, 'unitName': '份', 'quantity': 1}, {'name': '煲仔饭', 'calorie': 800, 'unitName': '份', 'quantity': 1}, {'name': '米饭', 'calorie': 232, 'unitName': '两', 'quantity': 1}, {'name': '番茄炒蛋', 'calorie': 74, 'unitName': '份', 'quantity': 1}], 'snacks': [{'name': '双皮奶', 'calorie': 200, 'unitName': '份', 'quantity': 1}, {'name': '豪太太鸡排', 'calorie': 400, 'unitName': '份', 'quantity': 1}, {'name': '金家关东煮', 'calorie': 54, 'unitName': '根', 'quantity': 3}], 'sports': [{'name': '篮球', 'calorie': 120, 'unitName': '分钟', 'quantity': 30}, {'name': '自行车', 'calorie': 156, 'unitName': '分钟', 'quantity': 60}], 'calorieLeft': 1057, 'username': 'David', 'year': 2019, 'month': 6, 'day': 6}, {'breakfast': [{'name': '面包', 'calorie': 399, 'unitName': '片', 'quantity': 3}, {'name': '牛奶', 'calorie': 125, 'unitName': '盒', 'quantity': 1}], 'lunch': [{'name': '西兰花', 'calorie': 34, 'unitName': '份', 'quantity': 1}, {'name': '米饭', 'calorie': 232, 'unitName': '两', 'quantity': 1}], 'dinner': [{'name': '米饭', 'calorie': 232, 'unitName': '两', 'quantity': 1}, {'name': '煲仔饭', 'calorie': 800, 'unitName': '份', 'quantity': 1}], 'snacks': [{'name': '一丢丢奶茶', 'calorie': 300, 'unitName': '杯', 'quantity': 1}, {'name': '蛋挞', 'calorie': 94, 'unitName': '个', 'quantity': 1}], 'sports': [{'name': '散步', 'calorie': 48, 'unitName': '分钟', 'quantity': 30}, {'name': '羽毛球', 'calorie': 135, 'unitName': '分钟', 'quantity': 45}], 'calorieLeft': 303, 'username': 'David', 'year': 2019, 'month': 6, 'day': 5}, {'breakfast': [{'name': '面包', 'calorie': 399, 'unitName': '片', 'quantity': 3}, {'name': '牛奶', 'calorie': 125, 'unitName': '盒', 'quantity': 1}], 'lunch': [{'name': '咕咾肉', 'calorie': 291, 'unitName': '份', 'quantity': 1}, {'name': '煲仔饭', 'calorie': 800, 'unitName': '份', 'quantity': 1}], 'dinner': [{'name': '米饭', 'calorie': 232, 'unitName': '两', 'quantity': 1}, {'name': '煲仔饭', 'calorie': 800, 'unitName': '份', 'quantity': 1}, {'name': '咕咾肉', 'calorie': 291, 'unitName': '份', 'quantity': 1}], 'snacks': [{'name': '豪太太鸡排', 'calorie': 400, 'unitName': '份', 'quantity': 1}, {'name': '烤肠', 'calorie': 508, 'unitName': '根', 'quantity': 1}, {'name': '金家关东煮', 'calorie': 54, 'unitName': '根', 'quantity': 3}, {'name': '一丢丢奶茶', 'calorie': 300, 'unitName': '杯', 'quantity': 1}], 'sports': [{'name': '羽毛球', 'calorie': 135, 'unitName': '分钟', 'quantity': 45}, {'name': '瑜伽', 'calorie': 104, 'unitName': '分钟', 'quantity': 40}, {'name': '散步', 'calorie': 48, 'unitName': '分钟', 'quantity': 30}], 'calorieLeft': 2183, 'username': 'David', 'year': 2019, 'month': 6, 'day': 4}]"
   ]
  },
  {
   "cell_type": "code",
   "execution_count": 10,
   "metadata": {},
   "outputs": [
    {
     "ename": "NameError",
     "evalue": "name 'User' is not defined",
     "output_type": "error",
     "traceback": [
      "\u001b[0;31m---------------------------------------------------------------------------\u001b[0m",
      "\u001b[0;31mNameError\u001b[0m                                 Traceback (most recent call last)",
      "\u001b[0;32m<ipython-input-10-eef5592208b7>\u001b[0m in \u001b[0;36m<module>\u001b[0;34m\u001b[0m\n\u001b[1;32m      2\u001b[0m     \u001b[0;31m#daily record\u001b[0m\u001b[0;34m\u001b[0m\u001b[0;34m\u001b[0m\u001b[0;34m\u001b[0m\u001b[0m\n\u001b[1;32m      3\u001b[0m     \u001b[0musername\u001b[0m\u001b[0;34m,\u001b[0m\u001b[0mcalorieLeft\u001b[0m\u001b[0;34m,\u001b[0m\u001b[0myear\u001b[0m\u001b[0;34m,\u001b[0m\u001b[0mmonth\u001b[0m\u001b[0;34m,\u001b[0m\u001b[0mday\u001b[0m \u001b[0;34m=\u001b[0m \u001b[0mrecord\u001b[0m\u001b[0;34m[\u001b[0m\u001b[0;34m'username'\u001b[0m\u001b[0;34m]\u001b[0m\u001b[0;34m,\u001b[0m\u001b[0mrecord\u001b[0m\u001b[0;34m[\u001b[0m\u001b[0;34m'calorieLeft'\u001b[0m\u001b[0;34m]\u001b[0m\u001b[0;34m,\u001b[0m\u001b[0mrecord\u001b[0m\u001b[0;34m[\u001b[0m\u001b[0;34m'year'\u001b[0m\u001b[0;34m]\u001b[0m\u001b[0;34m,\u001b[0m\u001b[0mrecord\u001b[0m\u001b[0;34m[\u001b[0m\u001b[0;34m'month'\u001b[0m\u001b[0;34m]\u001b[0m\u001b[0;34m,\u001b[0m\u001b[0mrecord\u001b[0m\u001b[0;34m[\u001b[0m\u001b[0;34m'day'\u001b[0m\u001b[0;34m]\u001b[0m\u001b[0;34m\u001b[0m\u001b[0;34m\u001b[0m\u001b[0m\n\u001b[0;32m----> 4\u001b[0;31m     \u001b[0musername\u001b[0m\u001b[0;34m=\u001b[0m\u001b[0mUser\u001b[0m\u001b[0;34m.\u001b[0m\u001b[0mobjects\u001b[0m\u001b[0;34m.\u001b[0m\u001b[0mfilter\u001b[0m\u001b[0;34m(\u001b[0m\u001b[0musername__exact\u001b[0m\u001b[0;34m=\u001b[0m\u001b[0musername\u001b[0m\u001b[0;34m)\u001b[0m\u001b[0;34m[\u001b[0m\u001b[0;36m0\u001b[0m\u001b[0;34m]\u001b[0m\u001b[0;34m\u001b[0m\u001b[0;34m\u001b[0m\u001b[0m\n\u001b[0m\u001b[1;32m      5\u001b[0m     \u001b[0mdaily\u001b[0m \u001b[0;34m=\u001b[0m \u001b[0mDaily\u001b[0m\u001b[0;34m(\u001b[0m\u001b[0musername\u001b[0m\u001b[0;34m=\u001b[0m\u001b[0musername\u001b[0m\u001b[0;34m,\u001b[0m\u001b[0mdate\u001b[0m\u001b[0;34m=\u001b[0m\u001b[0mdatetime\u001b[0m\u001b[0;34m.\u001b[0m\u001b[0mdate\u001b[0m\u001b[0;34m(\u001b[0m\u001b[0myear\u001b[0m\u001b[0;34m,\u001b[0m\u001b[0mmonth\u001b[0m\u001b[0;34m,\u001b[0m\u001b[0mday\u001b[0m\u001b[0;34m)\u001b[0m\u001b[0;34m,\u001b[0m\u001b[0mcalorieLeft\u001b[0m\u001b[0;34m=\u001b[0m\u001b[0mcalorieLeft\u001b[0m\u001b[0;34m)\u001b[0m\u001b[0;34m\u001b[0m\u001b[0;34m\u001b[0m\u001b[0m\n\u001b[1;32m      6\u001b[0m     \u001b[0mdaily\u001b[0m\u001b[0;34m.\u001b[0m\u001b[0msave\u001b[0m\u001b[0;34m(\u001b[0m\u001b[0;34m)\u001b[0m\u001b[0;34m\u001b[0m\u001b[0;34m\u001b[0m\u001b[0m\n",
      "\u001b[0;31mNameError\u001b[0m: name 'User' is not defined"
     ]
    }
   ],
   "source": [
    "for record in records:\n",
    "    #daily record\n",
    "    username,calorieLeft,year,month,day = record['username'],record['calorieLeft'],record['year'],record['month'],record['day']\n",
    "    username=User.objects.filter(username__exact=username)[0]\n",
    "    daily = Daily(username=username,date=datetime.date(year,month,day),calorieLeft=calorieLeft)\n",
    "    daily.save()\n",
    "    recordID = daily\n",
    "    for meal_name in ['breakfast','lunch','dinner','snacks']:\n",
    "        meals = record[meal_name]\n",
    "        for meal in meals:\n",
    "            name,calorie,unitName,quantity=meal['name'],meal['calorie'],meal['unitName'],meal['quantity']\n",
    "            foodRecord = FoodRecord(recordID=recordID,meal=meal_name,name=name,calorie=calorie,unitName=unitName,quantity=quantity)\n",
    "            foodRecord.save()\n",
    "    for sport in record['sports']:\n",
    "        name,calorie,unitName,quantity=sport['name'],sport['calorie'],sport['unitName'],sport['quantity']\n",
    "        sportsRecord = SportsRecord(recordID=recordID,name=name,calorie=calorie,unitName=unitName,quantity=quantity)\n",
    "        sportsRecord.save()"
   ]
  },
  {
   "cell_type": "code",
   "execution_count": null,
   "metadata": {},
   "outputs": [],
   "source": []
  }
 ],
 "metadata": {
  "kernelspec": {
   "display_name": "Python 3",
   "language": "python",
   "name": "python3"
  },
  "language_info": {
   "codemirror_mode": {
    "name": "ipython",
    "version": 3
   },
   "file_extension": ".py",
   "mimetype": "text/x-python",
   "name": "python",
   "nbconvert_exporter": "python",
   "pygments_lexer": "ipython3",
   "version": "3.6.8"
  }
 },
 "nbformat": 4,
 "nbformat_minor": 2
}
